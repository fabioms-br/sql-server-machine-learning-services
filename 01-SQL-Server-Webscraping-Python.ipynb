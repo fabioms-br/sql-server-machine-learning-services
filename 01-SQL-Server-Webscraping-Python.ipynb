{
    "metadata": {
        "kernelspec": {
            "name": "SQL",
            "display_name": "SQL",
            "language": "sql"
        },
        "language_info": {
            "name": "sql",
            "version": ""
        }
    },
    "nbformat_minor": 2,
    "nbformat": 4,
    "cells": [
        {
            "cell_type": "markdown",
            "source": [
                "## **Webscraping com Python no SQL Server**"
            ],
            "metadata": {
                "azdata_cell_guid": "a9607af6-c16e-432d-9da8-fb4f641e6418"
            },
            "attachments": {}
        },
        {
            "cell_type": "code",
            "source": [
                "DECLARE @pscript NVARCHAR(MAX);\r\n",
                "\r\n",
                "/* 1 Importar os módulos python */\r\n",
                "-- Instalar módulos no SQL Server\r\n",
                "-- pandas, requests, bs4, html5lib, lxml\r\n",
                "\r\n",
                "SET @pscript = N'\r\n",
                "\r\n",
                "import pandas as pd                  # importar para criar o dataframe\r\n",
                "import requests                      # importar para consulta web\r\n",
                "from bs4 import BeautifulSoup as bs  # importar para ler html\r\n",
                "\r\n",
                "'\r\n",
                "\r\n",
                "/* 2. Obter Texto HTML BeatifulSoup */\r\n",
                "-- Conhecer e Identificar o código HTML\r\n",
                "\r\n",
                "SET @pscript = @pscript + N'\r\n",
                "\r\n",
                "url = \"https://www.macrotrends.net/stocks/charts/MSFT/microsoft/stock-price-history\"\r\n",
                "html_data = requests.get(url).text  # consulta para a página de internet\r\n",
                "beautiful_soup = bs(html_data, \"html5lib\")  # ler e converter html em objetos\r\n",
                "\r\n",
                "'\r\n",
                "\r\n",
                "/* 3. Obter e identificar a tabela desejada */\r\n",
                "\r\n",
                "SET @pscript = @pscript + N'\r\n",
                "\r\n",
                "tabelas = beautiful_soup.find_all(\"table\")\r\n",
                "\r\n",
                "for id, tabela in enumerate(tabelas):\r\n",
                "    if (\"Historical Annual Stock Price Data\" in str(tabela)):\r\n",
                "        tabela_id = id      # obter o índice da tabela\r\n",
                "\r\n",
                "'\r\n",
                "\r\n",
                "\r\n",
                "/* 4. Cria Dataframe */\r\n",
                "\r\n",
                "SET @pscript = @pscript + N'\r\n",
                "\r\n",
                "table_data = pd.DataFrame(columns=[\"Ticker\", \\\r\n",
                "\"Year\", \"Average\", \"Open\", \\\r\n",
                "\"High\", \"Low\", \"Close\"]) \r\n",
                "\r\n",
                "'\r\n",
                "\r\n",
                "/* 5. Preencher Dataframe com valores da tabela */\r\n",
                "\r\n",
                "SET @pscript = @pscript + N'\r\n",
                "\r\n",
                "for linha in tabelas[tabela_id].tbody.find_all(\"tr\"):\r\n",
                "    coluna = linha.find_all(\"td\")\r\n",
                "    if (coluna !=[]):\r\n",
                "\t\tyear = coluna[0].text\r\n",
                "\t\taverage = coluna[1].text\r\n",
                "\t\topen = coluna[2].text\r\n",
                "\t\thigh = coluna[3].text\r\n",
                "\t\tlow = coluna[4].text\r\n",
                "\t\tclose = coluna[5].text\r\n",
                "        \r\n",
                "\t\ttable_data = table_data.append(\\\r\n",
                "        {\"Ticker\": \"MSFT\" ,\\\r\n",
                "        \"Year\" : year, \\\r\n",
                "        \"Average\" : average, \\\r\n",
                "        \"Open\" : open, \\\r\n",
                "        \"High\" : high, \\\r\n",
                "        \"Low\" : low, \\\r\n",
                "        \"Close\" : close}, ignore_index=True)\r\n",
                "\r\n",
                "'\r\n",
                "\r\n",
                "/* 6. Disponibilizar o resultado */\r\n",
                "\r\n",
                "SET @pscript = @pscript + N'\r\n",
                "\r\n",
                "OutputDataSet = table_data\r\n",
                "\r\n",
                "'\r\n",
                "\r\n",
                "Execute sp_execute_external_script \r\n",
                "@language = N'Python', \r\n",
                "@script = @pscript\r\n",
                "WITH RESULT SETS( \r\n",
                "    (\"Ticker\" varchar(10), \r\n",
                "    \"Year\" int, \"Average\" float, \"Open\" float, \r\n",
                "    \"High\" float, \"Low\" float, \"Close\" float) \r\n",
                "); -- nomes das colunas\r\n",
                ""
            ],
            "metadata": {
                "azdata_cell_guid": "4d71eca8-9a7f-4d16-ac4b-519dc417f2c1",
                "tags": [],
                "language": "sql"
            },
            "outputs": [
                {
                    "output_type": "display_data",
                    "data": {
                        "text/html": "STDERR message(s) from external script: \nC:\\Program Files\\Microsoft SQL Server\\MSSQL15.MSSQLSERVER\\PYTHON_SERVICES\\lib\\site-packages\\revoscalepy\\functions\\RxSummary.py:4: FutureWarning: The Panel class is removed from pandas. Accessing it from the top-level namespace will also be removed in the next version\r\n  from pandas import DataFrame, Index, Panel\r"
                    },
                    "metadata": {}
                },
                {
                    "output_type": "display_data",
                    "data": {
                        "text/html": "(36 rows affected)"
                    },
                    "metadata": {}
                },
                {
                    "output_type": "display_data",
                    "data": {
                        "text/html": "Total execution time: 00:00:09.742"
                    },
                    "metadata": {}
                },
                {
                    "output_type": "execute_result",
                    "execution_count": 1,
                    "data": {
                        "application/vnd.dataresource+json": {
                            "schema": {
                                "fields": [
                                    {
                                        "name": "Ticker"
                                    },
                                    {
                                        "name": "Year"
                                    },
                                    {
                                        "name": "Average"
                                    },
                                    {
                                        "name": "Open"
                                    },
                                    {
                                        "name": "High"
                                    },
                                    {
                                        "name": "Low"
                                    },
                                    {
                                        "name": "Close"
                                    }
                                ]
                            },
                            "data": [
                                {
                                    "0": "MSFT",
                                    "1": "2022",
                                    "2": "305,1354",
                                    "3": "334,75",
                                    "4": "334,75",
                                    "5": "287,72",
                                    "6": "287,72"
                                },
                                {
                                    "0": "MSFT",
                                    "1": "2021",
                                    "2": "275,9408",
                                    "3": "217,69",
                                    "4": "343,11",
                                    "5": "212,25",
                                    "6": "336,32"
                                },
                                {
                                    "0": "MSFT",
                                    "1": "2020",
                                    "2": "193,0261",
                                    "3": "160,62",
                                    "4": "231,65",
                                    "5": "135,42",
                                    "6": "222,42"
                                },
                                {
                                    "0": "MSFT",
                                    "1": "2019",
                                    "2": "130,382",
                                    "3": "101,12",
                                    "4": "158,96",
                                    "5": "97,4",
                                    "6": "157,7"
                                },
                                {
                                    "0": "MSFT",
                                    "1": "2018",
                                    "2": "101,034",
                                    "3": "85,95",
                                    "4": "115,61",
                                    "5": "85,01",
                                    "6": "101,57"
                                },
                                {
                                    "0": "MSFT",
                                    "1": "2017",
                                    "2": "71,984",
                                    "3": "62,58",
                                    "4": "86,85",
                                    "5": "62,3",
                                    "6": "85,54"
                                },
                                {
                                    "0": "MSFT",
                                    "1": "2016",
                                    "2": "55,2593",
                                    "3": "54,8",
                                    "4": "63,62",
                                    "5": "48,43",
                                    "6": "62,14"
                                },
                                {
                                    "0": "MSFT",
                                    "1": "2015",
                                    "2": "46,7136",
                                    "3": "46,76",
                                    "4": "56,55",
                                    "5": "40,29",
                                    "6": "55,48"
                                },
                                {
                                    "0": "MSFT",
                                    "1": "2014",
                                    "2": "42,4533",
                                    "3": "37,16",
                                    "4": "49,61",
                                    "5": "34,98",
                                    "6": "46,45"
                                },
                                {
                                    "0": "MSFT",
                                    "1": "2013",
                                    "2": "32,4915",
                                    "3": "27,62",
                                    "4": "38,94",
                                    "5": "26,46",
                                    "6": "37,41"
                                },
                                {
                                    "0": "MSFT",
                                    "1": "2012",
                                    "2": "29,8203",
                                    "3": "26,765",
                                    "4": "32,85",
                                    "5": "26,37",
                                    "6": "26,7097"
                                },
                                {
                                    "0": "MSFT",
                                    "1": "2011",
                                    "2": "26,0522",
                                    "3": "27,98",
                                    "4": "28,87",
                                    "5": "23,705",
                                    "6": "25,96"
                                },
                                {
                                    "0": "MSFT",
                                    "1": "2010",
                                    "2": "27,0584",
                                    "3": "30,95",
                                    "4": "31,39",
                                    "5": "23,01",
                                    "6": "27,91"
                                },
                                {
                                    "0": "MSFT",
                                    "1": "2009",
                                    "2": "22,9766",
                                    "3": "20,33",
                                    "4": "31,39",
                                    "5": "15,15",
                                    "6": "30,48"
                                },
                                {
                                    "0": "MSFT",
                                    "1": "2008",
                                    "2": "26,6475",
                                    "3": "35,22",
                                    "4": "35,37",
                                    "5": "17,53",
                                    "6": "19,44"
                                },
                                {
                                    "0": "MSFT",
                                    "1": "2007",
                                    "2": "30,4459",
                                    "3": "29,86",
                                    "4": "37,06",
                                    "5": "26,72",
                                    "6": "35,6"
                                },
                                {
                                    "0": "MSFT",
                                    "1": "2006",
                                    "2": "26,2908",
                                    "3": "26,84",
                                    "4": "30,19",
                                    "5": "21,51",
                                    "6": "29,86"
                                },
                                {
                                    "0": "MSFT",
                                    "1": "2005",
                                    "2": "25,871",
                                    "3": "26,74",
                                    "4": "28,16",
                                    "5": "23,92",
                                    "6": "26,15"
                                },
                                {
                                    "0": "MSFT",
                                    "1": "2004",
                                    "2": "27,1247",
                                    "3": "27,45",
                                    "4": "29,98",
                                    "5": "24,15",
                                    "6": "26,72"
                                },
                                {
                                    "0": "MSFT",
                                    "1": "2003",
                                    "2": "26,1014",
                                    "3": "26,86",
                                    "4": "29,96",
                                    "5": "22,8",
                                    "6": "27,37"
                                },
                                {
                                    "0": "MSFT",
                                    "1": "2002",
                                    "2": "27,2745",
                                    "3": "33,52",
                                    "4": "34,93",
                                    "5": "21,415",
                                    "6": "25,85"
                                },
                                {
                                    "0": "MSFT",
                                    "1": "2001",
                                    "2": "31,2712",
                                    "3": "21,69",
                                    "4": "36,84",
                                    "5": "21,69",
                                    "6": "33,125"
                                },
                                {
                                    "0": "MSFT",
                                    "1": "2000",
                                    "2": "38,1098",
                                    "3": "58,28",
                                    "4": "58,28",
                                    "5": "20,75",
                                    "6": "21,69"
                                },
                                {
                                    "0": "MSFT",
                                    "1": "1999",
                                    "2": "43,7663",
                                    "3": "35,25",
                                    "4": "59,56",
                                    "5": "35,25",
                                    "6": "58,375"
                                },
                                {
                                    "0": "MSFT",
                                    "1": "1998",
                                    "2": "24,6307",
                                    "3": "16,3913",
                                    "4": "35,89",
                                    "5": "15,875",
                                    "6": "34,6725"
                                },
                                {
                                    "0": "MSFT",
                                    "1": "1997",
                                    "2": "15,1192",
                                    "3": "10,2025",
                                    "4": "18,6875",
                                    "5": "10,2025",
                                    "6": "16,1563"
                                },
                                {
                                    "0": "MSFT",
                                    "1": "1996",
                                    "2": "7,5441",
                                    "3": "5,6094",
                                    "4": "10,6875",
                                    "5": "5,0119",
                                    "6": "10,3275"
                                },
                                {
                                    "0": "MSFT",
                                    "1": "1995",
                                    "2": "5,1904",
                                    "3": "3,7619",
                                    "4": "6,8125",
                                    "5": "3,6875",
                                    "6": "5,4844"
                                },
                                {
                                    "0": "MSFT",
                                    "1": "1994",
                                    "2": "3,2051",
                                    "3": "2,5038",
                                    "4": "4,0388",
                                    "5": "2,4569",
                                    "6": "3,8206"
                                },
                                {
                                    "0": "MSFT",
                                    "1": "1993",
                                    "2": "2,6087",
                                    "3": "2,66",
                                    "4": "3,0078",
                                    "5": "2,2188",
                                    "6": "2,5194"
                                },
                                {
                                    "0": "MSFT",
                                    "1": "1992",
                                    "2": "2,5059",
                                    "3": "2,375",
                                    "4": "2,9688",
                                    "5": "2,0859",
                                    "6": "2,6678"
                                },
                                {
                                    "0": "MSFT",
                                    "1": "1991",
                                    "2": "1,6104",
                                    "3": "1,0382",
                                    "4": "2,3177",
                                    "5": "1,0208",
                                    "6": "2,3177"
                                },
                                {
                                    "0": "MSFT",
                                    "1": "1990",
                                    "2": "0,8645",
                                    "3": "0,6163",
                                    "4": "1,1007",
                                    "5": "0,5981",
                                    "6": "1,0451"
                                },
                                {
                                    "0": "MSFT",
                                    "1": "1989",
                                    "2": "0,4355",
                                    "3": "0,3724",
                                    "4": "0,6146",
                                    "5": "0,3229",
                                    "6": "0,6042"
                                },
                                {
                                    "0": "MSFT",
                                    "1": "1988",
                                    "2": "0,3854",
                                    "3": "0,3889",
                                    "4": "0,4835",
                                    "5": "0,3194",
                                    "6": "0,3698"
                                },
                                {
                                    "0": "MSFT",
                                    "1": "1987",
                                    "2": "0,3413",
                                    "3": "0,1658",
                                    "4": "0,5486",
                                    "5": "0,1658",
                                    "6": "0,3767"
                                }
                            ]
                        },
                        "text/html": "<table><tr><th>Ticker</th><th>Year</th><th>Average</th><th>Open</th><th>High</th><th>Low</th><th>Close</th></tr><tr><td>MSFT</td><td>2022</td><td>305,1354</td><td>334,75</td><td>334,75</td><td>287,72</td><td>287,72</td></tr><tr><td>MSFT</td><td>2021</td><td>275,9408</td><td>217,69</td><td>343,11</td><td>212,25</td><td>336,32</td></tr><tr><td>MSFT</td><td>2020</td><td>193,0261</td><td>160,62</td><td>231,65</td><td>135,42</td><td>222,42</td></tr><tr><td>MSFT</td><td>2019</td><td>130,382</td><td>101,12</td><td>158,96</td><td>97,4</td><td>157,7</td></tr><tr><td>MSFT</td><td>2018</td><td>101,034</td><td>85,95</td><td>115,61</td><td>85,01</td><td>101,57</td></tr><tr><td>MSFT</td><td>2017</td><td>71,984</td><td>62,58</td><td>86,85</td><td>62,3</td><td>85,54</td></tr><tr><td>MSFT</td><td>2016</td><td>55,2593</td><td>54,8</td><td>63,62</td><td>48,43</td><td>62,14</td></tr><tr><td>MSFT</td><td>2015</td><td>46,7136</td><td>46,76</td><td>56,55</td><td>40,29</td><td>55,48</td></tr><tr><td>MSFT</td><td>2014</td><td>42,4533</td><td>37,16</td><td>49,61</td><td>34,98</td><td>46,45</td></tr><tr><td>MSFT</td><td>2013</td><td>32,4915</td><td>27,62</td><td>38,94</td><td>26,46</td><td>37,41</td></tr><tr><td>MSFT</td><td>2012</td><td>29,8203</td><td>26,765</td><td>32,85</td><td>26,37</td><td>26,7097</td></tr><tr><td>MSFT</td><td>2011</td><td>26,0522</td><td>27,98</td><td>28,87</td><td>23,705</td><td>25,96</td></tr><tr><td>MSFT</td><td>2010</td><td>27,0584</td><td>30,95</td><td>31,39</td><td>23,01</td><td>27,91</td></tr><tr><td>MSFT</td><td>2009</td><td>22,9766</td><td>20,33</td><td>31,39</td><td>15,15</td><td>30,48</td></tr><tr><td>MSFT</td><td>2008</td><td>26,6475</td><td>35,22</td><td>35,37</td><td>17,53</td><td>19,44</td></tr><tr><td>MSFT</td><td>2007</td><td>30,4459</td><td>29,86</td><td>37,06</td><td>26,72</td><td>35,6</td></tr><tr><td>MSFT</td><td>2006</td><td>26,2908</td><td>26,84</td><td>30,19</td><td>21,51</td><td>29,86</td></tr><tr><td>MSFT</td><td>2005</td><td>25,871</td><td>26,74</td><td>28,16</td><td>23,92</td><td>26,15</td></tr><tr><td>MSFT</td><td>2004</td><td>27,1247</td><td>27,45</td><td>29,98</td><td>24,15</td><td>26,72</td></tr><tr><td>MSFT</td><td>2003</td><td>26,1014</td><td>26,86</td><td>29,96</td><td>22,8</td><td>27,37</td></tr><tr><td>MSFT</td><td>2002</td><td>27,2745</td><td>33,52</td><td>34,93</td><td>21,415</td><td>25,85</td></tr><tr><td>MSFT</td><td>2001</td><td>31,2712</td><td>21,69</td><td>36,84</td><td>21,69</td><td>33,125</td></tr><tr><td>MSFT</td><td>2000</td><td>38,1098</td><td>58,28</td><td>58,28</td><td>20,75</td><td>21,69</td></tr><tr><td>MSFT</td><td>1999</td><td>43,7663</td><td>35,25</td><td>59,56</td><td>35,25</td><td>58,375</td></tr><tr><td>MSFT</td><td>1998</td><td>24,6307</td><td>16,3913</td><td>35,89</td><td>15,875</td><td>34,6725</td></tr><tr><td>MSFT</td><td>1997</td><td>15,1192</td><td>10,2025</td><td>18,6875</td><td>10,2025</td><td>16,1563</td></tr><tr><td>MSFT</td><td>1996</td><td>7,5441</td><td>5,6094</td><td>10,6875</td><td>5,0119</td><td>10,3275</td></tr><tr><td>MSFT</td><td>1995</td><td>5,1904</td><td>3,7619</td><td>6,8125</td><td>3,6875</td><td>5,4844</td></tr><tr><td>MSFT</td><td>1994</td><td>3,2051</td><td>2,5038</td><td>4,0388</td><td>2,4569</td><td>3,8206</td></tr><tr><td>MSFT</td><td>1993</td><td>2,6087</td><td>2,66</td><td>3,0078</td><td>2,2188</td><td>2,5194</td></tr><tr><td>MSFT</td><td>1992</td><td>2,5059</td><td>2,375</td><td>2,9688</td><td>2,0859</td><td>2,6678</td></tr><tr><td>MSFT</td><td>1991</td><td>1,6104</td><td>1,0382</td><td>2,3177</td><td>1,0208</td><td>2,3177</td></tr><tr><td>MSFT</td><td>1990</td><td>0,8645</td><td>0,6163</td><td>1,1007</td><td>0,5981</td><td>1,0451</td></tr><tr><td>MSFT</td><td>1989</td><td>0,4355</td><td>0,3724</td><td>0,6146</td><td>0,3229</td><td>0,6042</td></tr><tr><td>MSFT</td><td>1988</td><td>0,3854</td><td>0,3889</td><td>0,4835</td><td>0,3194</td><td>0,3698</td></tr><tr><td>MSFT</td><td>1987</td><td>0,3413</td><td>0,1658</td><td>0,5486</td><td>0,1658</td><td>0,3767</td></tr></table>"
                    },
                    "metadata": {}
                }
            ],
            "execution_count": 1
        },
        {
            "cell_type": "markdown",
            "source": [
                "## **Criar Procedimento**"
            ],
            "metadata": {
                "azdata_cell_guid": "6bcfcc32-8ec3-4839-9542-78df9215e4e5"
            },
            "attachments": {}
        },
        {
            "cell_type": "code",
            "source": [
                "CREATE OR ALTER PROCEDURE ObterTicker \r\n",
                "\t@Nome varchar(MAX), --definir parametro para o ticker desejado\r\n",
                "\t@Excluir bit = 0    -- definir parametro para excluir os registros antes\r\n",
                "AS\r\n",
                "BEGIN\r\n",
                "\r\n",
                "\r\n",
                "IF @Excluir = 1 \r\n",
                "\tDELETE FROM STOCK_PRICE_HISTORY\r\n",
                "\r\n",
                "DECLARE @pscript NVARCHAR(MAX);\r\n",
                "\r\n",
                "SET @pscript = N'\r\n",
                "\r\n",
                "import pandas as pd\r\n",
                "import requests\r\n",
                "from bs4 import BeautifulSoup as bs\r\n",
                "\r\n",
                "url = \"https://www.macrotrends.net/stocks/charts/'+ @Nome + N'/stock-price-history\"\r\n",
                "html_data = requests.get(url).text\r\n",
                "beautiful_soup = bs(html_data, \"html5lib\")\r\n",
                "\r\n",
                "tabelas = beautiful_soup.find_all(\"table\")\r\n",
                "\r\n",
                "for id,tabela in enumerate(tabelas):\r\n",
                "    if (\"Historical Annual Stock Price Data\" in str(tabela)):\r\n",
                "        tabela_id = id\r\n",
                "\r\n",
                "table_data = pd.DataFrame(columns=[\"Ticker\",\"Year\", \"Average\", \"Open\", \"High\", \"Low\", \"Close\"])\r\n",
                "\r\n",
                "for linha in tabelas[tabela_id].tbody.find_all(\"tr\"):\r\n",
                "    coluna = linha.find_all(\"td\")\r\n",
                "    if (coluna !=[]):\r\n",
                "\t\tyear = coluna[0].text\r\n",
                "\t\taverage = coluna[1].text\r\n",
                "\t\topen = coluna[2].text\r\n",
                "\t\thigh = coluna[3].text\r\n",
                "\t\tlow = coluna[4].text\r\n",
                "\t\tclose = coluna[5].text\r\n",
                "        \r\n",
                "\t\ttable_data = table_data.append(\\\r\n",
                "        {\"Ticker\": \"'+ LEFT(@Nome,4) + N'\" ,\\\r\n",
                "        \"Year\" : year, \\\r\n",
                "        \"Average\" : average, \\\r\n",
                "        \"Open\" : open, \\\r\n",
                "        \"High\" : high, \\\r\n",
                "        \"Low\" : low, \\\r\n",
                "        \"Close\" : close}, ignore_index=True)\r\n",
                "\r\n",
                "OutputDataSet = table_data\r\n",
                "\r\n",
                "'\r\n",
                "\r\n",
                "INSERT INTO STOCK_PRICE_HISTORY --Inserir o resultado na tabela\r\n",
                "Execute sp_execute_external_script \r\n",
                "@language = N'Python', \r\n",
                "@script = @pscript\r\n",
                "\r\n",
                "\r\n",
                "END\r\n",
                "GO"
            ],
            "metadata": {
                "azdata_cell_guid": "f25ada7e-4d51-48b2-af48-cbd8b2782505",
                "language": "sql"
            },
            "outputs": [
                {
                    "output_type": "display_data",
                    "data": {
                        "text/html": "Commands completed successfully."
                    },
                    "metadata": {}
                },
                {
                    "output_type": "display_data",
                    "data": {
                        "text/html": "Total execution time: 00:00:00.007"
                    },
                    "metadata": {}
                }
            ],
            "execution_count": 27
        },
        {
            "cell_type": "markdown",
            "source": [
                "## **Executar Procedimento**"
            ],
            "metadata": {
                "azdata_cell_guid": "6f60f1b7-e6f0-4779-821f-4a0c1c979374"
            },
            "attachments": {}
        },
        {
            "cell_type": "code",
            "source": [
                "-- Obter valores da APPLE\r\n",
                "EXEC ObterTicker 'AAPL/apple', 1;\r\n",
                "GO\r\n",
                "\r\n",
                "-- Obter Valores da Microsoft\r\n",
                "EXEC ObterTicker 'MSFT/microsoft';\r\n",
                "GO"
            ],
            "metadata": {
                "azdata_cell_guid": "2ef088bd-b757-4146-8bc0-e0cb3a4c3d46",
                "language": "sql"
            },
            "outputs": [
                {
                    "output_type": "display_data",
                    "data": {
                        "text/html": "(78 rows affected)"
                    },
                    "metadata": {}
                },
                {
                    "output_type": "display_data",
                    "data": {
                        "text/html": "STDERR message(s) from external script: \nC:\\Program Files\\Microsoft SQL Server\\MSSQL15.MSSQLSERVER\\PYTHON_SERVICES\\lib\\site-packages\\revoscalepy\\functions\\RxSummary.py:4: FutureWarning: The Panel class is removed from pandas. Accessing it from the top-level namespace will also be removed in the next version\r\n  from pandas import DataFrame, Index, Panel\r"
                    },
                    "metadata": {}
                },
                {
                    "output_type": "display_data",
                    "data": {
                        "text/html": "(42 rows affected)"
                    },
                    "metadata": {}
                },
                {
                    "output_type": "display_data",
                    "data": {
                        "text/html": "STDERR message(s) from external script: \nC:\\Program Files\\Microsoft SQL Server\\MSSQL15.MSSQLSERVER\\PYTHON_SERVICES\\lib\\site-packages\\revoscalepy\\functions\\RxSummary.py:4: FutureWarning: The Panel class is removed from pandas. Accessing it from the top-level namespace will also be removed in the next version\r\n  from pandas import DataFrame, Index, Panel\r"
                    },
                    "metadata": {}
                },
                {
                    "output_type": "display_data",
                    "data": {
                        "text/html": "(36 rows affected)"
                    },
                    "metadata": {}
                },
                {
                    "output_type": "display_data",
                    "data": {
                        "text/html": "Total execution time: 00:00:07.807"
                    },
                    "metadata": {}
                }
            ],
            "execution_count": 28
        },
        {
            "cell_type": "markdown",
            "source": [
                "## **Consultar Tabela**"
            ],
            "metadata": {
                "azdata_cell_guid": "b413343c-f683-4d10-803a-4876d802dba2"
            },
            "attachments": {}
        },
        {
            "cell_type": "code",
            "source": [
                "SELECT * FROM STOCK_PRICE_HISTORY"
            ],
            "metadata": {
                "azdata_cell_guid": "7fb2a18f-3237-4cf8-93a2-df4d20093100",
                "language": "sql"
            },
            "outputs": [
                {
                    "output_type": "display_data",
                    "data": {
                        "text/html": "(78 rows affected)"
                    },
                    "metadata": {}
                },
                {
                    "output_type": "display_data",
                    "data": {
                        "text/html": "Total execution time: 00:00:00.058"
                    },
                    "metadata": {}
                },
                {
                    "output_type": "execute_result",
                    "execution_count": 29,
                    "data": {
                        "application/vnd.dataresource+json": {
                            "schema": {
                                "fields": [
                                    {
                                        "name": "Ticker"
                                    },
                                    {
                                        "name": "Year"
                                    },
                                    {
                                        "name": "Average"
                                    },
                                    {
                                        "name": "Open"
                                    },
                                    {
                                        "name": "High"
                                    },
                                    {
                                        "name": "Low"
                                    },
                                    {
                                        "name": "Close"
                                    }
                                ]
                            },
                            "data": [
                                {
                                    "0": "AAPL",
                                    "1": "2022",
                                    "2": "170,7912",
                                    "3": "182,01",
                                    "4": "182,01",
                                    "5": "159,22",
                                    "6": "167,3"
                                },
                                {
                                    "0": "AAPL",
                                    "1": "2021",
                                    "2": "140,9893",
                                    "3": "129,41",
                                    "4": "180,33",
                                    "5": "116,36",
                                    "6": "177,57"
                                },
                                {
                                    "0": "AAPL",
                                    "1": "2020",
                                    "2": "95,3468",
                                    "3": "75,0875",
                                    "4": "136,69",
                                    "5": "56,0925",
                                    "6": "132,69"
                                },
                                {
                                    "0": "AAPL",
                                    "1": "2019",
                                    "2": "52,064",
                                    "3": "39,48",
                                    "4": "73,4125",
                                    "5": "35,5475",
                                    "6": "73,4125"
                                },
                                {
                                    "0": "AAPL",
                                    "1": "2018",
                                    "2": "47,2634",
                                    "3": "43,065",
                                    "4": "58,0175",
                                    "5": "36,7075",
                                    "6": "39,435"
                                },
                                {
                                    "0": "AAPL",
                                    "1": "2017",
                                    "2": "37,6378",
                                    "3": "29,0375",
                                    "4": "44,105",
                                    "5": "29,005",
                                    "6": "42,3075"
                                },
                                {
                                    "0": "AAPL",
                                    "1": "2016",
                                    "2": "26,151",
                                    "3": "26,3375",
                                    "4": "29,5625",
                                    "5": "22,585",
                                    "6": "28,955"
                                },
                                {
                                    "0": "AAPL",
                                    "1": "2015",
                                    "2": "30,0096",
                                    "3": "27,3325",
                                    "4": "33,25",
                                    "5": "25,78",
                                    "6": "26,315"
                                },
                                {
                                    "0": "AAPL",
                                    "1": "2014",
                                    "2": "23,0661",
                                    "3": "19,7546",
                                    "4": "29,75",
                                    "5": "17,8494",
                                    "6": "27,595"
                                },
                                {
                                    "0": "AAPL",
                                    "1": "2013",
                                    "2": "16,8798",
                                    "3": "19,6082",
                                    "4": "20,3604",
                                    "5": "13,9475",
                                    "6": "20,0364"
                                },
                                {
                                    "0": "AAPL",
                                    "1": "2012",
                                    "2": "20,5732",
                                    "3": "14,6868",
                                    "4": "25,075",
                                    "5": "14,6868",
                                    "6": "19,0062"
                                },
                                {
                                    "0": "AAPL",
                                    "1": "2011",
                                    "2": "13,0002",
                                    "3": "11,7704",
                                    "4": "15,08",
                                    "5": "11,2614",
                                    "6": "14,4643"
                                },
                                {
                                    "0": "AAPL",
                                    "1": "2010",
                                    "2": "9,2801",
                                    "3": "7,6432",
                                    "4": "11,6239",
                                    "5": "6,8589",
                                    "6": "11,52"
                                },
                                {
                                    "0": "AAPL",
                                    "1": "2009",
                                    "2": "5,2434",
                                    "3": "3,2411",
                                    "4": "7,5586",
                                    "5": "2,7929",
                                    "6": "7,5261"
                                },
                                {
                                    "0": "AAPL",
                                    "1": "2008",
                                    "2": "5,0707",
                                    "3": "6,9586",
                                    "4": "6,9618",
                                    "5": "2,8746",
                                    "6": "3,0482"
                                },
                                {
                                    "0": "AAPL",
                                    "1": "2007",
                                    "2": "4,5812",
                                    "3": "2,9929",
                                    "4": "7,1368",
                                    "5": "2,9739",
                                    "6": "7,0743"
                                },
                                {
                                    "0": "AAPL",
                                    "1": "2006",
                                    "2": "2,529",
                                    "3": "2,6696",
                                    "4": "3,2789",
                                    "5": "1,8096",
                                    "6": "3,03"
                                },
                                {
                                    "0": "AAPL",
                                    "1": "2005",
                                    "2": "1,667",
                                    "3": "1,1302",
                                    "4": "2,6779",
                                    "5": "1,1302",
                                    "6": "2,5675"
                                },
                                {
                                    "0": "AAPL",
                                    "1": "2004",
                                    "2": "0,6344",
                                    "3": "0,38",
                                    "4": "1,2221",
                                    "5": "0,38",
                                    "6": "1,15"
                                },
                                {
                                    "0": "AAPL",
                                    "1": "2003",
                                    "2": "0,3311",
                                    "3": "0,2643",
                                    "4": "0,4432",
                                    "5": "0,2343",
                                    "6": "0,3816"
                                },
                                {
                                    "0": "AAPL",
                                    "1": "2002",
                                    "2": "0,3418",
                                    "3": "0,4161",
                                    "4": "0,4663",
                                    "5": "0,2429",
                                    "6": "0,2559"
                                },
                                {
                                    "0": "AAPL",
                                    "1": "2001",
                                    "2": "0,3611",
                                    "3": "0,2657",
                                    "4": "0,4748",
                                    "5": "0,2657",
                                    "6": "0,3911"
                                },
                                {
                                    "0": "AAPL",
                                    "1": "2000",
                                    "2": "0,8163",
                                    "3": "0,9995",
                                    "4": "1,2874",
                                    "5": "0,25",
                                    "6": "0,2657"
                                },
                                {
                                    "0": "AAPL",
                                    "1": "1999",
                                    "2": "0,5158",
                                    "3": "0,3683",
                                    "4": "1,0519",
                                    "5": "0,2874",
                                    "6": "0,9179"
                                },
                                {
                                    "0": "AAPL",
                                    "1": "1998",
                                    "2": "0,2729",
                                    "3": "0,1451",
                                    "4": "0,3839",
                                    "5": "0,1418",
                                    "6": "0,3655"
                                },
                                {
                                    "0": "AAPL",
                                    "1": "1997",
                                    "2": "0,1604",
                                    "3": "0,1875",
                                    "4": "0,2606",
                                    "5": "0,1155",
                                    "6": "0,1172"
                                },
                                {
                                    "0": "AAPL",
                                    "1": "1996",
                                    "2": "0,2225",
                                    "3": "0,2869",
                                    "4": "0,3125",
                                    "5": "0,1506",
                                    "6": "0,1863"
                                },
                                {
                                    "0": "AAPL",
                                    "1": "1995",
                                    "2": "0,362",
                                    "3": "0,3427",
                                    "4": "0,4409",
                                    "5": "0,2846",
                                    "6": "0,2846"
                                },
                                {
                                    "0": "AAPL",
                                    "1": "1994",
                                    "2": "0,3043",
                                    "3": "0,2667",
                                    "4": "0,3862",
                                    "5": "0,2243",
                                    "6": "0,3482"
                                },
                                {
                                    "0": "AAPL",
                                    "1": "1993",
                                    "2": "0,3663",
                                    "3": "0,5201",
                                    "4": "0,5804",
                                    "5": "0,202",
                                    "6": "0,2612"
                                },
                                {
                                    "0": "AAPL",
                                    "1": "1992",
                                    "2": "0,4893",
                                    "3": "0,5313",
                                    "4": "0,6238",
                                    "5": "0,3862",
                                    "6": "0,5335"
                                },
                                {
                                    "0": "AAPL",
                                    "1": "1991",
                                    "2": "0,4687",
                                    "3": "0,3884",
                                    "4": "0,6496",
                                    "5": "0,3672",
                                    "6": "0,5034"
                                },
                                {
                                    "0": "AAPL",
                                    "1": "1990",
                                    "2": "0,3354",
                                    "3": "0,3326",
                                    "4": "0,423",
                                    "5": "0,2232",
                                    "6": "0,3839"
                                },
                                {
                                    "0": "AAPL",
                                    "1": "1989",
                                    "2": "0,372",
                                    "3": "0,3605",
                                    "4": "0,4431",
                                    "5": "0,3013",
                                    "6": "0,3147"
                                },
                                {
                                    "0": "AAPL",
                                    "1": "1988",
                                    "2": "0,3709",
                                    "3": "0,3996",
                                    "4": "0,4219",
                                    "5": "0,3226",
                                    "6": "0,3594"
                                },
                                {
                                    "0": "AAPL",
                                    "1": "1987",
                                    "2": "0,3478",
                                    "3": "0,1825",
                                    "4": "0,529",
                                    "5": "0,1825",
                                    "6": "0,375"
                                },
                                {
                                    "0": "AAPL",
                                    "1": "1986",
                                    "2": "0,1449",
                                    "3": "0,0993",
                                    "4": "0,1953",
                                    "5": "0,0988",
                                    "6": "0,1808"
                                },
                                {
                                    "0": "AAPL",
                                    "1": "1985",
                                    "2": "0,0902",
                                    "3": "0,1244",
                                    "4": "0,1367",
                                    "5": "0,0647",
                                    "6": "0,0982"
                                },
                                {
                                    "0": "AAPL",
                                    "1": "1984",
                                    "2": "0,1197",
                                    "3": "0,1144",
                                    "4": "0,1484",
                                    "5": "0,0976",
                                    "6": "0,13"
                                },
                                {
                                    "0": "AAPL",
                                    "1": "1983",
                                    "2": "0,1675",
                                    "3": "0,1272",
                                    "4": "0,2801",
                                    "5": "0,0798",
                                    "6": "0,1088"
                                },
                                {
                                    "0": "AAPL",
                                    "1": "1982",
                                    "2": "0,0855",
                                    "3": "0,0982",
                                    "4": "0,1512",
                                    "5": "0,0491",
                                    "6": "0,1333"
                                },
                                {
                                    "0": "AAPL",
                                    "1": "1981",
                                    "2": "0,1085",
                                    "3": "0,154",
                                    "4": "0,154",
                                    "5": "0,0636",
                                    "6": "0,0988"
                                },
                                {
                                    "0": "MSFT",
                                    "1": "2022",
                                    "2": "305,6476",
                                    "3": "334,75",
                                    "4": "334,75",
                                    "5": "287,93",
                                    "6": "287,93"
                                },
                                {
                                    "0": "MSFT",
                                    "1": "2021",
                                    "2": "275,9408",
                                    "3": "217,69",
                                    "4": "343,11",
                                    "5": "212,25",
                                    "6": "336,32"
                                },
                                {
                                    "0": "MSFT",
                                    "1": "2020",
                                    "2": "193,0261",
                                    "3": "160,62",
                                    "4": "231,65",
                                    "5": "135,42",
                                    "6": "222,42"
                                },
                                {
                                    "0": "MSFT",
                                    "1": "2019",
                                    "2": "130,382",
                                    "3": "101,12",
                                    "4": "158,96",
                                    "5": "97,4",
                                    "6": "157,7"
                                },
                                {
                                    "0": "MSFT",
                                    "1": "2018",
                                    "2": "101,034",
                                    "3": "85,95",
                                    "4": "115,61",
                                    "5": "85,01",
                                    "6": "101,57"
                                },
                                {
                                    "0": "MSFT",
                                    "1": "2017",
                                    "2": "71,984",
                                    "3": "62,58",
                                    "4": "86,85",
                                    "5": "62,3",
                                    "6": "85,54"
                                },
                                {
                                    "0": "MSFT",
                                    "1": "2016",
                                    "2": "55,2593",
                                    "3": "54,8",
                                    "4": "63,62",
                                    "5": "48,43",
                                    "6": "62,14"
                                },
                                {
                                    "0": "MSFT",
                                    "1": "2015",
                                    "2": "46,7136",
                                    "3": "46,76",
                                    "4": "56,55",
                                    "5": "40,29",
                                    "6": "55,48"
                                },
                                {
                                    "0": "MSFT",
                                    "1": "2014",
                                    "2": "42,4533",
                                    "3": "37,16",
                                    "4": "49,61",
                                    "5": "34,98",
                                    "6": "46,45"
                                },
                                {
                                    "0": "MSFT",
                                    "1": "2013",
                                    "2": "32,4915",
                                    "3": "27,62",
                                    "4": "38,94",
                                    "5": "26,46",
                                    "6": "37,41"
                                },
                                {
                                    "0": "MSFT",
                                    "1": "2012",
                                    "2": "29,8203",
                                    "3": "26,765",
                                    "4": "32,85",
                                    "5": "26,37",
                                    "6": "26,7097"
                                },
                                {
                                    "0": "MSFT",
                                    "1": "2011",
                                    "2": "26,0522",
                                    "3": "27,98",
                                    "4": "28,87",
                                    "5": "23,705",
                                    "6": "25,96"
                                },
                                {
                                    "0": "MSFT",
                                    "1": "2010",
                                    "2": "27,0584",
                                    "3": "30,95",
                                    "4": "31,39",
                                    "5": "23,01",
                                    "6": "27,91"
                                },
                                {
                                    "0": "MSFT",
                                    "1": "2009",
                                    "2": "22,9766",
                                    "3": "20,33",
                                    "4": "31,39",
                                    "5": "15,15",
                                    "6": "30,48"
                                },
                                {
                                    "0": "MSFT",
                                    "1": "2008",
                                    "2": "26,6475",
                                    "3": "35,22",
                                    "4": "35,37",
                                    "5": "17,53",
                                    "6": "19,44"
                                },
                                {
                                    "0": "MSFT",
                                    "1": "2007",
                                    "2": "30,4459",
                                    "3": "29,86",
                                    "4": "37,06",
                                    "5": "26,72",
                                    "6": "35,6"
                                },
                                {
                                    "0": "MSFT",
                                    "1": "2006",
                                    "2": "26,2908",
                                    "3": "26,84",
                                    "4": "30,19",
                                    "5": "21,51",
                                    "6": "29,86"
                                },
                                {
                                    "0": "MSFT",
                                    "1": "2005",
                                    "2": "25,871",
                                    "3": "26,74",
                                    "4": "28,16",
                                    "5": "23,92",
                                    "6": "26,15"
                                },
                                {
                                    "0": "MSFT",
                                    "1": "2004",
                                    "2": "27,1247",
                                    "3": "27,45",
                                    "4": "29,98",
                                    "5": "24,15",
                                    "6": "26,72"
                                },
                                {
                                    "0": "MSFT",
                                    "1": "2003",
                                    "2": "26,1014",
                                    "3": "26,86",
                                    "4": "29,96",
                                    "5": "22,8",
                                    "6": "27,37"
                                },
                                {
                                    "0": "MSFT",
                                    "1": "2002",
                                    "2": "27,2745",
                                    "3": "33,52",
                                    "4": "34,93",
                                    "5": "21,415",
                                    "6": "25,85"
                                },
                                {
                                    "0": "MSFT",
                                    "1": "2001",
                                    "2": "31,2712",
                                    "3": "21,69",
                                    "4": "36,84",
                                    "5": "21,69",
                                    "6": "33,125"
                                },
                                {
                                    "0": "MSFT",
                                    "1": "2000",
                                    "2": "38,1098",
                                    "3": "58,28",
                                    "4": "58,28",
                                    "5": "20,75",
                                    "6": "21,69"
                                },
                                {
                                    "0": "MSFT",
                                    "1": "1999",
                                    "2": "43,7663",
                                    "3": "35,25",
                                    "4": "59,56",
                                    "5": "35,25",
                                    "6": "58,375"
                                },
                                {
                                    "0": "MSFT",
                                    "1": "1998",
                                    "2": "24,6307",
                                    "3": "16,3913",
                                    "4": "35,89",
                                    "5": "15,875",
                                    "6": "34,6725"
                                },
                                {
                                    "0": "MSFT",
                                    "1": "1997",
                                    "2": "15,1192",
                                    "3": "10,2025",
                                    "4": "18,6875",
                                    "5": "10,2025",
                                    "6": "16,1563"
                                },
                                {
                                    "0": "MSFT",
                                    "1": "1996",
                                    "2": "7,5441",
                                    "3": "5,6094",
                                    "4": "10,6875",
                                    "5": "5,0119",
                                    "6": "10,3275"
                                },
                                {
                                    "0": "MSFT",
                                    "1": "1995",
                                    "2": "5,1904",
                                    "3": "3,7619",
                                    "4": "6,8125",
                                    "5": "3,6875",
                                    "6": "5,4844"
                                },
                                {
                                    "0": "MSFT",
                                    "1": "1994",
                                    "2": "3,2051",
                                    "3": "2,5038",
                                    "4": "4,0388",
                                    "5": "2,4569",
                                    "6": "3,8206"
                                },
                                {
                                    "0": "MSFT",
                                    "1": "1993",
                                    "2": "2,6087",
                                    "3": "2,66",
                                    "4": "3,0078",
                                    "5": "2,2188",
                                    "6": "2,5194"
                                },
                                {
                                    "0": "MSFT",
                                    "1": "1992",
                                    "2": "2,5059",
                                    "3": "2,375",
                                    "4": "2,9688",
                                    "5": "2,0859",
                                    "6": "2,6678"
                                },
                                {
                                    "0": "MSFT",
                                    "1": "1991",
                                    "2": "1,6104",
                                    "3": "1,0382",
                                    "4": "2,3177",
                                    "5": "1,0208",
                                    "6": "2,3177"
                                },
                                {
                                    "0": "MSFT",
                                    "1": "1990",
                                    "2": "0,8645",
                                    "3": "0,6163",
                                    "4": "1,1007",
                                    "5": "0,5981",
                                    "6": "1,0451"
                                },
                                {
                                    "0": "MSFT",
                                    "1": "1989",
                                    "2": "0,4355",
                                    "3": "0,3724",
                                    "4": "0,6146",
                                    "5": "0,3229",
                                    "6": "0,6042"
                                },
                                {
                                    "0": "MSFT",
                                    "1": "1988",
                                    "2": "0,3854",
                                    "3": "0,3889",
                                    "4": "0,4835",
                                    "5": "0,3194",
                                    "6": "0,3698"
                                },
                                {
                                    "0": "MSFT",
                                    "1": "1987",
                                    "2": "0,3413",
                                    "3": "0,1658",
                                    "4": "0,5486",
                                    "5": "0,1658",
                                    "6": "0,3767"
                                }
                            ]
                        },
                        "text/html": "<table><tr><th>Ticker</th><th>Year</th><th>Average</th><th>Open</th><th>High</th><th>Low</th><th>Close</th></tr><tr><td>AAPL</td><td>2022</td><td>170,7912</td><td>182,01</td><td>182,01</td><td>159,22</td><td>167,3</td></tr><tr><td>AAPL</td><td>2021</td><td>140,9893</td><td>129,41</td><td>180,33</td><td>116,36</td><td>177,57</td></tr><tr><td>AAPL</td><td>2020</td><td>95,3468</td><td>75,0875</td><td>136,69</td><td>56,0925</td><td>132,69</td></tr><tr><td>AAPL</td><td>2019</td><td>52,064</td><td>39,48</td><td>73,4125</td><td>35,5475</td><td>73,4125</td></tr><tr><td>AAPL</td><td>2018</td><td>47,2634</td><td>43,065</td><td>58,0175</td><td>36,7075</td><td>39,435</td></tr><tr><td>AAPL</td><td>2017</td><td>37,6378</td><td>29,0375</td><td>44,105</td><td>29,005</td><td>42,3075</td></tr><tr><td>AAPL</td><td>2016</td><td>26,151</td><td>26,3375</td><td>29,5625</td><td>22,585</td><td>28,955</td></tr><tr><td>AAPL</td><td>2015</td><td>30,0096</td><td>27,3325</td><td>33,25</td><td>25,78</td><td>26,315</td></tr><tr><td>AAPL</td><td>2014</td><td>23,0661</td><td>19,7546</td><td>29,75</td><td>17,8494</td><td>27,595</td></tr><tr><td>AAPL</td><td>2013</td><td>16,8798</td><td>19,6082</td><td>20,3604</td><td>13,9475</td><td>20,0364</td></tr><tr><td>AAPL</td><td>2012</td><td>20,5732</td><td>14,6868</td><td>25,075</td><td>14,6868</td><td>19,0062</td></tr><tr><td>AAPL</td><td>2011</td><td>13,0002</td><td>11,7704</td><td>15,08</td><td>11,2614</td><td>14,4643</td></tr><tr><td>AAPL</td><td>2010</td><td>9,2801</td><td>7,6432</td><td>11,6239</td><td>6,8589</td><td>11,52</td></tr><tr><td>AAPL</td><td>2009</td><td>5,2434</td><td>3,2411</td><td>7,5586</td><td>2,7929</td><td>7,5261</td></tr><tr><td>AAPL</td><td>2008</td><td>5,0707</td><td>6,9586</td><td>6,9618</td><td>2,8746</td><td>3,0482</td></tr><tr><td>AAPL</td><td>2007</td><td>4,5812</td><td>2,9929</td><td>7,1368</td><td>2,9739</td><td>7,0743</td></tr><tr><td>AAPL</td><td>2006</td><td>2,529</td><td>2,6696</td><td>3,2789</td><td>1,8096</td><td>3,03</td></tr><tr><td>AAPL</td><td>2005</td><td>1,667</td><td>1,1302</td><td>2,6779</td><td>1,1302</td><td>2,5675</td></tr><tr><td>AAPL</td><td>2004</td><td>0,6344</td><td>0,38</td><td>1,2221</td><td>0,38</td><td>1,15</td></tr><tr><td>AAPL</td><td>2003</td><td>0,3311</td><td>0,2643</td><td>0,4432</td><td>0,2343</td><td>0,3816</td></tr><tr><td>AAPL</td><td>2002</td><td>0,3418</td><td>0,4161</td><td>0,4663</td><td>0,2429</td><td>0,2559</td></tr><tr><td>AAPL</td><td>2001</td><td>0,3611</td><td>0,2657</td><td>0,4748</td><td>0,2657</td><td>0,3911</td></tr><tr><td>AAPL</td><td>2000</td><td>0,8163</td><td>0,9995</td><td>1,2874</td><td>0,25</td><td>0,2657</td></tr><tr><td>AAPL</td><td>1999</td><td>0,5158</td><td>0,3683</td><td>1,0519</td><td>0,2874</td><td>0,9179</td></tr><tr><td>AAPL</td><td>1998</td><td>0,2729</td><td>0,1451</td><td>0,3839</td><td>0,1418</td><td>0,3655</td></tr><tr><td>AAPL</td><td>1997</td><td>0,1604</td><td>0,1875</td><td>0,2606</td><td>0,1155</td><td>0,1172</td></tr><tr><td>AAPL</td><td>1996</td><td>0,2225</td><td>0,2869</td><td>0,3125</td><td>0,1506</td><td>0,1863</td></tr><tr><td>AAPL</td><td>1995</td><td>0,362</td><td>0,3427</td><td>0,4409</td><td>0,2846</td><td>0,2846</td></tr><tr><td>AAPL</td><td>1994</td><td>0,3043</td><td>0,2667</td><td>0,3862</td><td>0,2243</td><td>0,3482</td></tr><tr><td>AAPL</td><td>1993</td><td>0,3663</td><td>0,5201</td><td>0,5804</td><td>0,202</td><td>0,2612</td></tr><tr><td>AAPL</td><td>1992</td><td>0,4893</td><td>0,5313</td><td>0,6238</td><td>0,3862</td><td>0,5335</td></tr><tr><td>AAPL</td><td>1991</td><td>0,4687</td><td>0,3884</td><td>0,6496</td><td>0,3672</td><td>0,5034</td></tr><tr><td>AAPL</td><td>1990</td><td>0,3354</td><td>0,3326</td><td>0,423</td><td>0,2232</td><td>0,3839</td></tr><tr><td>AAPL</td><td>1989</td><td>0,372</td><td>0,3605</td><td>0,4431</td><td>0,3013</td><td>0,3147</td></tr><tr><td>AAPL</td><td>1988</td><td>0,3709</td><td>0,3996</td><td>0,4219</td><td>0,3226</td><td>0,3594</td></tr><tr><td>AAPL</td><td>1987</td><td>0,3478</td><td>0,1825</td><td>0,529</td><td>0,1825</td><td>0,375</td></tr><tr><td>AAPL</td><td>1986</td><td>0,1449</td><td>0,0993</td><td>0,1953</td><td>0,0988</td><td>0,1808</td></tr><tr><td>AAPL</td><td>1985</td><td>0,0902</td><td>0,1244</td><td>0,1367</td><td>0,0647</td><td>0,0982</td></tr><tr><td>AAPL</td><td>1984</td><td>0,1197</td><td>0,1144</td><td>0,1484</td><td>0,0976</td><td>0,13</td></tr><tr><td>AAPL</td><td>1983</td><td>0,1675</td><td>0,1272</td><td>0,2801</td><td>0,0798</td><td>0,1088</td></tr><tr><td>AAPL</td><td>1982</td><td>0,0855</td><td>0,0982</td><td>0,1512</td><td>0,0491</td><td>0,1333</td></tr><tr><td>AAPL</td><td>1981</td><td>0,1085</td><td>0,154</td><td>0,154</td><td>0,0636</td><td>0,0988</td></tr><tr><td>MSFT</td><td>2022</td><td>305,6476</td><td>334,75</td><td>334,75</td><td>287,93</td><td>287,93</td></tr><tr><td>MSFT</td><td>2021</td><td>275,9408</td><td>217,69</td><td>343,11</td><td>212,25</td><td>336,32</td></tr><tr><td>MSFT</td><td>2020</td><td>193,0261</td><td>160,62</td><td>231,65</td><td>135,42</td><td>222,42</td></tr><tr><td>MSFT</td><td>2019</td><td>130,382</td><td>101,12</td><td>158,96</td><td>97,4</td><td>157,7</td></tr><tr><td>MSFT</td><td>2018</td><td>101,034</td><td>85,95</td><td>115,61</td><td>85,01</td><td>101,57</td></tr><tr><td>MSFT</td><td>2017</td><td>71,984</td><td>62,58</td><td>86,85</td><td>62,3</td><td>85,54</td></tr><tr><td>MSFT</td><td>2016</td><td>55,2593</td><td>54,8</td><td>63,62</td><td>48,43</td><td>62,14</td></tr><tr><td>MSFT</td><td>2015</td><td>46,7136</td><td>46,76</td><td>56,55</td><td>40,29</td><td>55,48</td></tr><tr><td>MSFT</td><td>2014</td><td>42,4533</td><td>37,16</td><td>49,61</td><td>34,98</td><td>46,45</td></tr><tr><td>MSFT</td><td>2013</td><td>32,4915</td><td>27,62</td><td>38,94</td><td>26,46</td><td>37,41</td></tr><tr><td>MSFT</td><td>2012</td><td>29,8203</td><td>26,765</td><td>32,85</td><td>26,37</td><td>26,7097</td></tr><tr><td>MSFT</td><td>2011</td><td>26,0522</td><td>27,98</td><td>28,87</td><td>23,705</td><td>25,96</td></tr><tr><td>MSFT</td><td>2010</td><td>27,0584</td><td>30,95</td><td>31,39</td><td>23,01</td><td>27,91</td></tr><tr><td>MSFT</td><td>2009</td><td>22,9766</td><td>20,33</td><td>31,39</td><td>15,15</td><td>30,48</td></tr><tr><td>MSFT</td><td>2008</td><td>26,6475</td><td>35,22</td><td>35,37</td><td>17,53</td><td>19,44</td></tr><tr><td>MSFT</td><td>2007</td><td>30,4459</td><td>29,86</td><td>37,06</td><td>26,72</td><td>35,6</td></tr><tr><td>MSFT</td><td>2006</td><td>26,2908</td><td>26,84</td><td>30,19</td><td>21,51</td><td>29,86</td></tr><tr><td>MSFT</td><td>2005</td><td>25,871</td><td>26,74</td><td>28,16</td><td>23,92</td><td>26,15</td></tr><tr><td>MSFT</td><td>2004</td><td>27,1247</td><td>27,45</td><td>29,98</td><td>24,15</td><td>26,72</td></tr><tr><td>MSFT</td><td>2003</td><td>26,1014</td><td>26,86</td><td>29,96</td><td>22,8</td><td>27,37</td></tr><tr><td>MSFT</td><td>2002</td><td>27,2745</td><td>33,52</td><td>34,93</td><td>21,415</td><td>25,85</td></tr><tr><td>MSFT</td><td>2001</td><td>31,2712</td><td>21,69</td><td>36,84</td><td>21,69</td><td>33,125</td></tr><tr><td>MSFT</td><td>2000</td><td>38,1098</td><td>58,28</td><td>58,28</td><td>20,75</td><td>21,69</td></tr><tr><td>MSFT</td><td>1999</td><td>43,7663</td><td>35,25</td><td>59,56</td><td>35,25</td><td>58,375</td></tr><tr><td>MSFT</td><td>1998</td><td>24,6307</td><td>16,3913</td><td>35,89</td><td>15,875</td><td>34,6725</td></tr><tr><td>MSFT</td><td>1997</td><td>15,1192</td><td>10,2025</td><td>18,6875</td><td>10,2025</td><td>16,1563</td></tr><tr><td>MSFT</td><td>1996</td><td>7,5441</td><td>5,6094</td><td>10,6875</td><td>5,0119</td><td>10,3275</td></tr><tr><td>MSFT</td><td>1995</td><td>5,1904</td><td>3,7619</td><td>6,8125</td><td>3,6875</td><td>5,4844</td></tr><tr><td>MSFT</td><td>1994</td><td>3,2051</td><td>2,5038</td><td>4,0388</td><td>2,4569</td><td>3,8206</td></tr><tr><td>MSFT</td><td>1993</td><td>2,6087</td><td>2,66</td><td>3,0078</td><td>2,2188</td><td>2,5194</td></tr><tr><td>MSFT</td><td>1992</td><td>2,5059</td><td>2,375</td><td>2,9688</td><td>2,0859</td><td>2,6678</td></tr><tr><td>MSFT</td><td>1991</td><td>1,6104</td><td>1,0382</td><td>2,3177</td><td>1,0208</td><td>2,3177</td></tr><tr><td>MSFT</td><td>1990</td><td>0,8645</td><td>0,6163</td><td>1,1007</td><td>0,5981</td><td>1,0451</td></tr><tr><td>MSFT</td><td>1989</td><td>0,4355</td><td>0,3724</td><td>0,6146</td><td>0,3229</td><td>0,6042</td></tr><tr><td>MSFT</td><td>1988</td><td>0,3854</td><td>0,3889</td><td>0,4835</td><td>0,3194</td><td>0,3698</td></tr><tr><td>MSFT</td><td>1987</td><td>0,3413</td><td>0,1658</td><td>0,5486</td><td>0,1658</td><td>0,3767</td></tr></table>"
                    },
                    "metadata": {}
                }
            ],
            "execution_count": 29
        }
    ]
}