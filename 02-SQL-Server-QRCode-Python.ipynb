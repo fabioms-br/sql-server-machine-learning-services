{
    "metadata": {
        "kernelspec": {
            "name": "SQL",
            "display_name": "SQL",
            "language": "sql"
        },
        "language_info": {
            "name": "sql",
            "version": ""
        }
    },
    "nbformat_minor": 2,
    "nbformat": 4,
    "cells": [
        {
            "cell_type": "markdown",
            "source": [
                "## **QRCoce com Python**"
            ],
            "metadata": {
                "azdata_cell_guid": "63fd73dd-21d4-4d33-aeb3-272ae1116afa"
            },
            "attachments": {}
        },
        {
            "cell_type": "code",
            "source": [
                "DECLARE @pscript NVARCHAR(MAX);\r\n",
                "\r\n",
                "/* 1 Importar os módulos python */\r\n",
                "-- Instalar módulos no SQL Server\r\n",
                "-- pandas, pyqrcode\r\n",
                "\r\n",
                "SET @pscript = N'\r\n",
                "\r\n",
                "import pandas as pd                  # importar para criar o dataframe\r\n",
                "import pyqrcode as qr                # importar para gerar QRCOde\r\n",
                "\r\n",
                "'\r\n",
                "\r\n",
                "\r\n",
                "/* 2. Definir URL e Criar Código QR*/\r\n",
                "\r\n",
                "SET @pscript = @pscript + N'\r\n",
                "\r\n",
                "url = \"https://www.youtube.com/c/fabioms?sub_confirmation=1\" #URL da inscrição do canal\r\n",
                "codigo = qr.create(url)\r\n",
                "\r\n",
                "'\r\n",
                "\r\n",
                "/* 3. Converter Imagem em Texto */\r\n",
                "\r\n",
                "SET @pscript = @pscript + N'\r\n",
                "\r\n",
                "\r\n",
                "imagem_texto = codigo.png_as_base64_str(scale=1)\r\n",
                "imagem_html = \"data:image/png;base64,{}\".format(imagem_texto)\r\n",
                "\r\n",
                "'\r\n",
                "\r\n",
                "\r\n",
                "\r\n",
                "/* 4. Exportar resultado para Dataframe */\r\n",
                "\r\n",
                "SET @pscript = @pscript + N'\r\n",
                "\r\n",
                "table_data = pd.DataFrame([[\"Fabio Menezes Santos\", imagem_html]])\r\n",
                "OutputDataSet = table_data\r\n",
                "\r\n",
                "'\r\n",
                "\r\n",
                "INSERT INTO QRCODE_URL\r\n",
                "Execute sp_execute_external_script \r\n",
                "@language = N'Python', \r\n",
                "@script = @pscript\r\n",
                "\r\n",
                ""
            ],
            "metadata": {
                "azdata_cell_guid": "8a02acdb-4ff7-486a-9454-b7e1089e69ae",
                "tags": []
            },
            "outputs": [
                {
                    "output_type": "display_data",
                    "data": {
                        "text/html": "STDERR message(s) from external script: \nC:\\Program Files\\Microsoft SQL Server\\MSSQL15.MSSQLSERVER\\PYTHON_SERVICES\\lib\\site-packages\\revoscalepy\\functions\\RxSummary.py:4: FutureWarning: The Panel class is removed from pandas. Accessing it from the top-level namespace will also be removed in the next version\r\n  from pandas import DataFrame, Index, Panel\r"
                    },
                    "metadata": {}
                },
                {
                    "output_type": "display_data",
                    "data": {
                        "text/html": "(1 row affected)"
                    },
                    "metadata": {}
                },
                {
                    "output_type": "display_data",
                    "data": {
                        "text/html": "Total execution time: 00:00:10.872"
                    },
                    "metadata": {}
                }
            ],
            "execution_count": 61
        },
        {
            "cell_type": "markdown",
            "source": [
                "## **Consultar Tabela \"QRCODE\\_URL\"**"
            ],
            "metadata": {
                "azdata_cell_guid": "5c858b7a-5d62-412f-b21d-7b05865219a5"
            },
            "attachments": {}
        },
        {
            "cell_type": "code",
            "source": [
                "SELECT * FROM QRCODE_URL"
            ],
            "metadata": {
                "azdata_cell_guid": "1cdfde5b-69d0-4d1d-b095-1fc5e9797c97"
            },
            "outputs": [
                {
                    "output_type": "display_data",
                    "data": {
                        "text/html": "(1 row affected)"
                    },
                    "metadata": {}
                },
                {
                    "output_type": "display_data",
                    "data": {
                        "text/html": "Total execution time: 00:00:00.003"
                    },
                    "metadata": {}
                },
                {
                    "output_type": "execute_result",
                    "metadata": {},
                    "execution_count": 62,
                    "data": {
                        "application/vnd.dataresource+json": {
                            "schema": {
                                "fields": [
                                    {
                                        "name": "Nome"
                                    },
                                    {
                                        "name": "QRCodigo"
                                    }
                                ]
                            },
                            "data": [
                                {
                                    "0": "Fábio Menezes",
                                    "1": "data:image/png;base64,iVBORw0KGgoAAAANSUhEUgAAADEAAAAxAQAAAABb53yxAAABPElEQVR4nGP4DwYNDLjoD7LTalnYGxi+3/olG/u9geFLzIxEU3EgHbl0/lsQHaoWpAqkv9/eZtkKlP8gGhoaAlT//8v39fOB+v8c+7lZsL6B4UfxcUUVd6D4TNv/kf5AfcWeW4PSgerZtqqvn97A8PVF4EETIP3jsmuHynKgvn8K6TX2QHNF7qvcNweq3/rrxKPzDQy/O9tU7soD+XmR01j6Gxg+Bd23zwTa93mV8ucEoHlfRZ8K3geKf/x7VOtyeQPDz8jWL3rzgfqyDu1iAJnfq5arpN7A8M2spT0RSP/hLrPLA9rzf8e8iVZA9371Ti4y3A8UN/iwcA5I/fVabgFxkH/ueYsD6Q/igieP8oPCQ4Rjez7QHRHXOT+AwiH8soU6Oyg8DH7P2w6SZ5tarA9UL2GV9PA97vCF0gBGRs6RS1V3SgAAAABJRU5ErkJggg=="
                                }
                            ]
                        },
                        "text/html": [
                            "<table>",
                            "<tr><th>Nome</th><th>QRCodigo</th></tr>",
                            "<tr><td>Fábio Menezes</td><td>data:image/png;base64,iVBORw0KGgoAAAANSUhEUgAAADEAAAAxAQAAAABb53yxAAABPElEQVR4nGP4DwYNDLjoD7LTalnYGxi+3/olG/u9geFLzIxEU3EgHbl0/lsQHaoWpAqkv9/eZtkKlP8gGhoaAlT//8v39fOB+v8c+7lZsL6B4UfxcUUVd6D4TNv/kf5AfcWeW4PSgerZtqqvn97A8PVF4EETIP3jsmuHynKgvn8K6TX2QHNF7qvcNweq3/rrxKPzDQy/O9tU7soD+XmR01j6Gxg+Bd23zwTa93mV8ucEoHlfRZ8K3geKf/x7VOtyeQPDz8jWL3rzgfqyDu1iAJnfq5arpN7A8M2spT0RSP/hLrPLA9rzf8e8iVZA9371Ti4y3A8UN/iwcA5I/fVabgFxkH/ueYsD6Q/igieP8oPCQ4Rjez7QHRHXOT+AwiH8soU6Oyg8DH7P2w6SZ5tarA9UL2GV9PA97vCF0gBGRs6RS1V3SgAAAABJRU5ErkJggg==</td></tr>",
                            "</table>"
                        ]
                    }
                }
            ],
            "execution_count": 62
        }
    ]
}